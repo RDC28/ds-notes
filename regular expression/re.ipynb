{
 "cells": [
  {
   "cell_type": "code",
   "execution_count": 1,
   "id": "d71c238a",
   "metadata": {},
   "outputs": [],
   "source": [
    "import re"
   ]
  },
  {
   "cell_type": "code",
   "execution_count": 22,
   "id": "82f9220d",
   "metadata": {},
   "outputs": [],
   "source": [
    "p = re.compile(\"[pP]ytho[nN]\")\n",
    "data = \"python is great. PythoN is easy\""
   ]
  },
  {
   "cell_type": "code",
   "execution_count": 28,
   "id": "1adb621b",
   "metadata": {},
   "outputs": [
    {
     "name": "stdout",
     "output_type": "stream",
     "text": [
      "<re.Match object; span=(0, 6), match='python'>\n",
      "<re.Match object; span=(0, 6), match='python'>\n",
      "['python', 'PythoN']\n"
     ]
    }
   ],
   "source": [
    "print(re.search(p, data),\n",
    "      re.match(p, data),\n",
    "      re.findall(p, data),\n",
    "      sep = '\\n')"
   ]
  },
  {
   "cell_type": "code",
   "execution_count": 31,
   "id": "b1763bcb",
   "metadata": {},
   "outputs": [
    {
     "name": "stdout",
     "output_type": "stream",
     "text": [
      "python\n",
      "(0, 6)\n",
      "0\n",
      "6\n",
      "PythoN\n",
      "(17, 23)\n",
      "17\n",
      "23\n",
      "\n"
     ]
    }
   ],
   "source": [
    "i = re.finditer(p, data)\n",
    "\n",
    "while True:\n",
    "    try:\n",
    "        s = next(i)\n",
    "        print(s.group(),\n",
    "              s.span(),\n",
    "              s.start(),\n",
    "              s.end(),\n",
    "              sep = '\\n')\n",
    "    except StopIteration as e:\n",
    "        print(e)\n",
    "        break"
   ]
  },
  {
   "cell_type": "code",
   "execution_count": 32,
   "id": "ad01d8e6",
   "metadata": {},
   "outputs": [],
   "source": [
    "text = \"\"\"The US and China have agreed on a range of contentious points as part of a trade deal ahead of a key meeting between leaders Donald Trump and Xi Jinping later this week. US Treasury Secretary Scott Bessent said that Trump’s threat of 100% tariffs on Chinese goods “is effectively off the table”. Meanwhile, a Chinese official told Bloomberg that both sides had reached an initial consensus on issues such as export controls, fentanyl, and shipping charges. The positive signs from both sides mark a major shift from recent weeks, when China’s move to impose new export restrictions and Trump’s counter-threat of new tariffs raised fears that the two countries could return to an all-out trade war. In an interview with CBS News, he said, “We had a very good two-day meeting. I would believe that the—so it would be an extra 100% from where we are now, and I believe that is effectively off the table. I would expect that the threat of the 100% has gone away, as has the threat of the immediate imposition of the Chinese initiating a worldwide export control regime.” The proposed tariffs were part of Trump's response to Beijing's expanded export controls on rare earth materials, which are essential for global industries like electronics and defence.\n",
    "\n",
    "Bessent said that the agreement between Trump and Xi would extend the existing tariff truce, settle disputes over the sale of TikTok, and ensure the continued supply of rare earth magnets.\n",
    "\n",
    "China to make “substantial” purchases of American soybeans\n",
    "Bessent also said during the interview that Beijing will make “substantial” purchases of US soybeans after talks with its Chinese counterparts.\n",
    "\n",
    "If confirmed by Beijing, the pledge to increase purchases of US goods would offer much-needed relief to American farmers facing financial strain after China, their largest customer, pulled back this season. Throughout their negotiations, Beijing has reportedly used soybean imports as a major bargaining tool to strengthen its position. Notably, Trump’s upcoming meeting with Xi will be their first in-person discussion since his return to the White House.\"\"\""
   ]
  },
  {
   "cell_type": "code",
   "execution_count": 42,
   "id": "3e10c32d",
   "metadata": {},
   "outputs": [
    {
     "data": {
      "text/plain": [
       "['US', 'China', 'US', 'China', 'China', 'US', 'US', 'China']"
      ]
     },
     "execution_count": 42,
     "metadata": {},
     "output_type": "execute_result"
    }
   ],
   "source": [
    "p = re.compile('[cC]hina|US')\n",
    "re.findall(p, text)"
   ]
  },
  {
   "cell_type": "code",
   "execution_count": 54,
   "id": "bf399ab3",
   "metadata": {},
   "outputs": [
    {
     "name": "stderr",
     "output_type": "stream",
     "text": [
      "<>:1: SyntaxWarning: invalid escape sequence '\\d'\n",
      "<>:1: SyntaxWarning: invalid escape sequence '\\d'\n",
      "C:\\Users\\HP\\AppData\\Local\\Temp\\ipykernel_2016\\3532970058.py:1: SyntaxWarning: invalid escape sequence '\\d'\n",
      "  re.findall('\\d', text)\n"
     ]
    },
    {
     "data": {
      "text/plain": [
       "['1', '0', '0', '1', '0', '0', '1', '0', '0']"
      ]
     },
     "execution_count": 54,
     "metadata": {},
     "output_type": "execute_result"
    }
   ],
   "source": [
    "re.findall('\\d', text)"
   ]
  },
  {
   "cell_type": "code",
   "execution_count": 55,
   "id": "368a3f8d",
   "metadata": {},
   "outputs": [
    {
     "name": "stderr",
     "output_type": "stream",
     "text": [
      "<>:1: SyntaxWarning: invalid escape sequence '\\W'\n",
      "<>:1: SyntaxWarning: invalid escape sequence '\\W'\n",
      "C:\\Users\\HP\\AppData\\Local\\Temp\\ipykernel_2016\\3687280375.py:1: SyntaxWarning: invalid escape sequence '\\W'\n",
      "  set(re.findall('\\W', text))\n"
     ]
    },
    {
     "data": {
      "text/plain": [
       "{'\\n', ' ', '%', \"'\", ',', '-', '.', '—', '’', '“', '”'}"
      ]
     },
     "execution_count": 55,
     "metadata": {},
     "output_type": "execute_result"
    }
   ],
   "source": [
    "set(re.findall('\\W', text))"
   ]
  },
  {
   "cell_type": "code",
   "execution_count": 67,
   "id": "ebd6c0e7",
   "metadata": {},
   "outputs": [
    {
     "data": {
      "text/plain": [
       "<re.Match object; span=(0, 12), match='abcd1234efgh'>"
      ]
     },
     "execution_count": 67,
     "metadata": {},
     "output_type": "execute_result"
    }
   ],
   "source": [
    "password = 'abcd1234efgh'\n",
    "re.fullmatch(r\"[a-zA-Z0-9!@#$%^&*]{8,}\", password)"
   ]
  },
  {
   "cell_type": "code",
   "execution_count": 81,
   "id": "51ab381f",
   "metadata": {},
   "outputs": [
    {
     "data": {
      "text/plain": [
       "<re.Match object; span=(14, 21), match='\\\\python'>"
      ]
     },
     "execution_count": 81,
     "metadata": {},
     "output_type": "execute_result"
    }
   ],
   "source": [
    "data = r'hello this is \\python'\n",
    "re.search('\\\\\\\\python', data)"
   ]
  }
 ],
 "metadata": {
  "kernelspec": {
   "display_name": "venv (3.12.4)",
   "language": "python",
   "name": "python3"
  },
  "language_info": {
   "codemirror_mode": {
    "name": "ipython",
    "version": 3
   },
   "file_extension": ".py",
   "mimetype": "text/x-python",
   "name": "python",
   "nbconvert_exporter": "python",
   "pygments_lexer": "ipython3",
   "version": "3.12.4"
  }
 },
 "nbformat": 4,
 "nbformat_minor": 5
}
