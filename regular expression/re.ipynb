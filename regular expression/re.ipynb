{
 "cells": [
  {
   "cell_type": "code",
   "execution_count": 1,
   "id": "d71c238a",
   "metadata": {},
   "outputs": [],
   "source": [
    "import re"
   ]
  },
  {
   "cell_type": "code",
   "execution_count": 2,
   "id": "82f9220d",
   "metadata": {},
   "outputs": [],
   "source": [
    "p = re.compile(\"[pP]ytho[nN]\")\n",
    "data = \"python is great. PythoN is easy\""
   ]
  },
  {
   "cell_type": "code",
   "execution_count": 3,
   "id": "1adb621b",
   "metadata": {},
   "outputs": [
    {
     "name": "stdout",
     "output_type": "stream",
     "text": [
      "<re.Match object; span=(0, 6), match='python'>\n",
      "<re.Match object; span=(0, 6), match='python'>\n",
      "['python', 'PythoN']\n"
     ]
    }
   ],
   "source": [
    "print(re.search(p, data),\n",
    "      re.match(p, data),\n",
    "      re.findall(p, data),\n",
    "      sep = '\\n')"
   ]
  },
  {
   "cell_type": "code",
   "execution_count": 4,
   "id": "b1763bcb",
   "metadata": {},
   "outputs": [
    {
     "name": "stdout",
     "output_type": "stream",
     "text": [
      "python\n",
      "(0, 6)\n",
      "0\n",
      "6\n",
      "PythoN\n",
      "(17, 23)\n",
      "17\n",
      "23\n",
      "\n"
     ]
    }
   ],
   "source": [
    "i = re.finditer(p, data)\n",
    "\n",
    "while True:\n",
    "    try:\n",
    "        s = next(i)\n",
    "        print(s.group(),\n",
    "              s.span(),\n",
    "              s.start(),\n",
    "              s.end(),\n",
    "              sep = '\\n')\n",
    "    except StopIteration as e:\n",
    "        print(e)\n",
    "        break"
   ]
  },
  {
   "cell_type": "code",
   "execution_count": 5,
   "id": "ad01d8e6",
   "metadata": {},
   "outputs": [],
   "source": [
    "text = \"\"\"The US and China have agreed on a range of contentious points as part of a trade deal ahead of a key meeting between leaders Donald Trump and Xi Jinping later this week. US Treasury Secretary Scott Bessent said that Trump’s threat of 100% tariffs on Chinese goods “is effectively off the table”. Meanwhile, a Chinese official told Bloomberg that both sides had reached an initial consensus on issues such as export controls, fentanyl, and shipping charges. The positive signs from both sides mark a major shift from recent weeks, when China’s move to impose new export restrictions and Trump’s counter-threat of new tariffs raised fears that the two countries could return to an all-out trade war. In an interview with CBS News, he said, “We had a very good two-day meeting. I would believe that the—so it would be an extra 100% from where we are now, and I believe that is effectively off the table. I would expect that the threat of the 100% has gone away, as has the threat of the immediate imposition of the Chinese initiating a worldwide export control regime.” The proposed tariffs were part of Trump's response to Beijing's expanded export controls on rare earth materials, which are essential for global industries like electronics and defence.\n",
    "\n",
    "Bessent said that the agreement between Trump and Xi would extend the existing tariff truce, settle disputes over the sale of TikTok, and ensure the continued supply of rare earth magnets.\n",
    "\n",
    "China to make “substantial” purchases of American soybeans\n",
    "Bessent also said during the interview that Beijing will make “substantial” purchases of US soybeans after talks with its Chinese counterparts.\n",
    "\n",
    "If confirmed by Beijing, the pledge to increase purchases of US goods would offer much-needed relief to American farmers facing financial strain after China, their largest customer, pulled back this season. Throughout their negotiations, Beijing has reportedly used soybean imports as a major bargaining tool to strengthen its position. Notably, Trump’s upcoming meeting with Xi will be their first in-person discussion since his return to the White House.\"\"\""
   ]
  },
  {
   "cell_type": "code",
   "execution_count": 6,
   "id": "3e10c32d",
   "metadata": {},
   "outputs": [
    {
     "data": {
      "text/plain": [
       "['US', 'China', 'US', 'China', 'China', 'US', 'US', 'China']"
      ]
     },
     "execution_count": 6,
     "metadata": {},
     "output_type": "execute_result"
    }
   ],
   "source": [
    "p = re.compile('[cC]hina|US')\n",
    "re.findall(p, text)"
   ]
  },
  {
   "cell_type": "code",
   "execution_count": 7,
   "id": "bf399ab3",
   "metadata": {},
   "outputs": [
    {
     "data": {
      "text/plain": [
       "['1', '0', '0', '1', '0', '0', '1', '0', '0']"
      ]
     },
     "execution_count": 7,
     "metadata": {},
     "output_type": "execute_result"
    }
   ],
   "source": [
    "re.findall(r'\\d', text)"
   ]
  },
  {
   "cell_type": "code",
   "execution_count": 8,
   "id": "368a3f8d",
   "metadata": {},
   "outputs": [
    {
     "data": {
      "text/plain": [
       "{'\\n', ' ', '%', \"'\", ',', '-', '.', '—', '’', '“', '”'}"
      ]
     },
     "execution_count": 8,
     "metadata": {},
     "output_type": "execute_result"
    }
   ],
   "source": [
    "set(re.findall(r'\\W', text))"
   ]
  },
  {
   "cell_type": "code",
   "execution_count": 9,
   "id": "ebd6c0e7",
   "metadata": {},
   "outputs": [
    {
     "data": {
      "text/plain": [
       "<re.Match object; span=(0, 9), match='Admin@123'>"
      ]
     },
     "execution_count": 9,
     "metadata": {},
     "output_type": "execute_result"
    }
   ],
   "source": [
    "password = 'Admin@123'\n",
    "re.fullmatch(r\"^(?=.*[A-Z])(?=.*[a-z])(?=.*\\d)(?=.*[!@#$%^&*]).{8,}$\", password)"
   ]
  },
  {
   "cell_type": "code",
   "execution_count": 10,
   "id": "51ab381f",
   "metadata": {},
   "outputs": [
    {
     "data": {
      "text/plain": [
       "<re.Match object; span=(14, 22), match='\\\\\\\\python'>"
      ]
     },
     "execution_count": 10,
     "metadata": {},
     "output_type": "execute_result"
    }
   ],
   "source": [
    "data = r'hello this is \\\\python'\n",
    "re.search('\\\\\\\\\\\\\\\\python', data)"
   ]
  },
  {
   "cell_type": "code",
   "execution_count": 11,
   "id": "6d9b54eb",
   "metadata": {},
   "outputs": [
    {
     "data": {
      "text/plain": [
       "<re.Match object; span=(0, 2), match='Aa'>"
      ]
     },
     "execution_count": 11,
     "metadata": {},
     "output_type": "execute_result"
    }
   ],
   "source": [
    "re.match(r'^[a-hA-H]{1,}', 'Aakash')"
   ]
  },
  {
   "cell_type": "code",
   "execution_count": 12,
   "id": "4cefa85c",
   "metadata": {},
   "outputs": [
    {
     "name": "stdout",
     "output_type": "stream",
     "text": [
      "aakash\n",
      "biden\n",
      "donald\n"
     ]
    }
   ],
   "source": [
    "data = ['rohit', 'aakash', 'yash', 'piyush', 'biden', 'donald']\n",
    "\n",
    "for name in data:\n",
    "    if re.search(r'^[a-hA-H]{1,}', name):\n",
    "        print(name)"
   ]
  },
  {
   "cell_type": "code",
   "execution_count": 13,
   "id": "1140a620",
   "metadata": {},
   "outputs": [
    {
     "name": "stdout",
     "output_type": "stream",
     "text": [
      "aakash\n",
      "yash\n",
      "piyush\n",
      "donald\n"
     ]
    }
   ],
   "source": [
    "data = ['rohit', 'aakash', 'yash', 'piyush', 'biden', 'donald']\n",
    "\n",
    "for name in data:\n",
    "    if re.search(r'[a-hA-H]{1,}$', name):\n",
    "        print(name)"
   ]
  },
  {
   "cell_type": "code",
   "execution_count": 14,
   "id": "c2f607a7",
   "metadata": {},
   "outputs": [
    {
     "name": "stdout",
     "output_type": "stream",
     "text": [
      "rohit\n",
      "yash\n",
      "piyush\n"
     ]
    }
   ],
   "source": [
    "data = ['rohit', 'aakash', 'yash', 'piyush', 'biden', 'donald']\n",
    "\n",
    "for name in data:\n",
    "    if re.match(r'[^a-hA-H]{1,}', name):\n",
    "        print(name)"
   ]
  },
  {
   "cell_type": "code",
   "execution_count": 15,
   "id": "9649c541",
   "metadata": {},
   "outputs": [
    {
     "name": "stdout",
     "output_type": "stream",
     "text": [
      "aakash\n"
     ]
    }
   ],
   "source": [
    "data = ['rohit', 'aakash', 'yash', 'piyush', 'biden', 'donald']\n",
    "\n",
    "for name in data:\n",
    "    if re.search(r'^[aA].*[a-hA-H]{1,}', name):\n",
    "        print(name)"
   ]
  },
  {
   "cell_type": "code",
   "execution_count": 16,
   "id": "3374c6f2",
   "metadata": {},
   "outputs": [
    {
     "name": "stdout",
     "output_type": "stream",
     "text": [
      "python\n",
      "python\n"
     ]
    }
   ],
   "source": [
    "data = 'python cpython jpython ironpython bruh yoooo python'\n",
    "\n",
    "matches = re.finditer(r'\\bpython\\b', data)\n",
    "for match in matches:\n",
    "    print(match.group())"
   ]
  },
  {
   "cell_type": "code",
   "execution_count": 17,
   "id": "831ae8eb",
   "metadata": {},
   "outputs": [
    {
     "name": "stdout",
     "output_type": "stream",
     "text": [
      "python\n",
      "python\n",
      "python\n",
      "python\n",
      "python\n"
     ]
    }
   ],
   "source": [
    "data = 'python cpython jpython ironpython bruh yoooo python'\n",
    "\n",
    "matches = re.finditer(r'python', data)\n",
    "for match in matches:\n",
    "    print(match.group())"
   ]
  },
  {
   "cell_type": "code",
   "execution_count": 18,
   "id": "39bada71",
   "metadata": {},
   "outputs": [
    {
     "name": "stdout",
     "output_type": "stream",
     "text": [
      "['color', 'colour']\n",
      "['ng', 'ng', 'n']\n",
      "['ng', 'ng']\n"
     ]
    }
   ],
   "source": [
    "data = 'Im english, the spelling of color and also be colour.'\n",
    "\n",
    "print(re.findall(r'colou?r', data),\n",
    "      re.findall(r'ng*', data),\n",
    "      re.findall(r'ng+', data),\n",
    "      sep = '\\n')"
   ]
  },
  {
   "cell_type": "code",
   "execution_count": 26,
   "id": "9b991383",
   "metadata": {},
   "outputs": [
    {
     "name": "stdout",
     "output_type": "stream",
     "text": [
      "['\"button\" class=\"btn btn-primary\"']\n",
      "1\n"
     ]
    }
   ],
   "source": [
    "# greedy and non-greedy quantifiers\n",
    "\n",
    "# all quantifiers are greedy by default\n",
    "data = '<button type=\"button\" class=\"btn btn-primary\">Primary Button</button>'\n",
    "res = re.findall('\".+\"', data)\n",
    "print(res)\n",
    "print(len(res))"
   ]
  },
  {
   "cell_type": "code",
   "execution_count": 28,
   "id": "9b8725d1",
   "metadata": {},
   "outputs": [
    {
     "name": "stdout",
     "output_type": "stream",
     "text": [
      "['\"button\"', '\"btn btn-primary\"']\n",
      "2\n"
     ]
    }
   ],
   "source": [
    "# non-greedy quantifiers\n",
    "data = '<button type=\"button\" class=\"btn btn-primary\">Primary Button</button>'\n",
    "res = re.findall('\".+?\"', data)\n",
    "print(res)\n",
    "print(len(res))"
   ]
  },
  {
   "cell_type": "code",
   "execution_count": null,
   "id": "192fb402",
   "metadata": {},
   "outputs": [],
   "source": []
  }
 ],
 "metadata": {
  "kernelspec": {
   "display_name": "venv (3.12.4)",
   "language": "python",
   "name": "python3"
  },
  "language_info": {
   "codemirror_mode": {
    "name": "ipython",
    "version": 3
   },
   "file_extension": ".py",
   "mimetype": "text/x-python",
   "name": "python",
   "nbconvert_exporter": "python",
   "pygments_lexer": "ipython3",
   "version": "3.12.4"
  }
 },
 "nbformat": 4,
 "nbformat_minor": 5
}
